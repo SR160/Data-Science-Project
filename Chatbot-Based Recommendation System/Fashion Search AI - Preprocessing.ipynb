{
 "cells": [
  {
   "cell_type": "markdown",
   "id": "9320dfd1",
   "metadata": {},
   "source": [
    "<h1 align=\"center\"> FASHION SEARCH AI - PREPOCESSING</h1>"
   ]
  },
  {
   "cell_type": "code",
   "execution_count": 1,
   "id": "3bf220bc",
   "metadata": {},
   "outputs": [],
   "source": [
    "#Import necessary librabries\n",
    "import pandas as pd\n",
    "from bs4 import BeautifulSoup\n",
    "import re"
   ]
  },
  {
   "cell_type": "code",
   "execution_count": 2,
   "id": "7e2ff673",
   "metadata": {},
   "outputs": [],
   "source": [
    "# Import the dataset\n",
    "df = pd.read_csv('Fashion Dataset v2.csv')"
   ]
  },
  {
   "cell_type": "code",
   "execution_count": 3,
   "id": "fbeeea62",
   "metadata": {},
   "outputs": [
    {
     "data": {
      "text/html": [
       "<div>\n",
       "<style scoped>\n",
       "    .dataframe tbody tr th:only-of-type {\n",
       "        vertical-align: middle;\n",
       "    }\n",
       "\n",
       "    .dataframe tbody tr th {\n",
       "        vertical-align: top;\n",
       "    }\n",
       "\n",
       "    .dataframe thead th {\n",
       "        text-align: right;\n",
       "    }\n",
       "</style>\n",
       "<table border=\"1\" class=\"dataframe\">\n",
       "  <thead>\n",
       "    <tr style=\"text-align: right;\">\n",
       "      <th></th>\n",
       "      <th>p_id</th>\n",
       "      <th>name</th>\n",
       "      <th>products</th>\n",
       "      <th>price</th>\n",
       "      <th>colour</th>\n",
       "      <th>brand</th>\n",
       "      <th>img</th>\n",
       "      <th>ratingCount</th>\n",
       "      <th>avg_rating</th>\n",
       "      <th>description</th>\n",
       "      <th>p_attributes</th>\n",
       "    </tr>\n",
       "  </thead>\n",
       "  <tbody>\n",
       "    <tr>\n",
       "      <th>0</th>\n",
       "      <td>17048614</td>\n",
       "      <td>Khushal K Women Black Ethnic Motifs Printed Ku...</td>\n",
       "      <td>Kurta, Palazzos, Dupatta</td>\n",
       "      <td>5099.0</td>\n",
       "      <td>Black</td>\n",
       "      <td>Khushal K</td>\n",
       "      <td>http://assets.myntassets.com/assets/images/170...</td>\n",
       "      <td>4522.0</td>\n",
       "      <td>4.418399</td>\n",
       "      <td>Black printed Kurta with Palazzos with dupatta...</td>\n",
       "      <td>{'Add-Ons': 'NA', 'Body Shape ID': '443,333,32...</td>\n",
       "    </tr>\n",
       "    <tr>\n",
       "      <th>1</th>\n",
       "      <td>16524740</td>\n",
       "      <td>InWeave Women Orange Solid Kurta with Palazzos...</td>\n",
       "      <td>Kurta, Palazzos, Floral Print Dupatta</td>\n",
       "      <td>5899.0</td>\n",
       "      <td>Orange</td>\n",
       "      <td>InWeave</td>\n",
       "      <td>http://assets.myntassets.com/assets/images/165...</td>\n",
       "      <td>1081.0</td>\n",
       "      <td>4.119334</td>\n",
       "      <td>Orange solid Kurta with Palazzos with dupatta&lt;...</td>\n",
       "      <td>{'Add-Ons': 'NA', 'Body Shape ID': '443,333,32...</td>\n",
       "    </tr>\n",
       "    <tr>\n",
       "      <th>2</th>\n",
       "      <td>16331376</td>\n",
       "      <td>Anubhutee Women Navy Blue Ethnic Motifs Embroi...</td>\n",
       "      <td>Kurta, Trousers, Dupatta</td>\n",
       "      <td>4899.0</td>\n",
       "      <td>Navy Blue</td>\n",
       "      <td>Anubhutee</td>\n",
       "      <td>http://assets.myntassets.com/assets/images/163...</td>\n",
       "      <td>1752.0</td>\n",
       "      <td>4.161530</td>\n",
       "      <td>Navy blue embroidered Kurta with Trousers with...</td>\n",
       "      <td>{'Add-Ons': 'NA', 'Body Shape ID': '333,424', ...</td>\n",
       "    </tr>\n",
       "    <tr>\n",
       "      <th>3</th>\n",
       "      <td>14709966</td>\n",
       "      <td>Nayo Women Red Floral Printed Kurta With Trous...</td>\n",
       "      <td>Kurta, Trouser, Dupatta</td>\n",
       "      <td>3699.0</td>\n",
       "      <td>Red</td>\n",
       "      <td>Nayo</td>\n",
       "      <td>http://assets.myntassets.com/assets/images/147...</td>\n",
       "      <td>4113.0</td>\n",
       "      <td>4.088986</td>\n",
       "      <td>Red printed kurta with trouser and dupatta&lt;br&gt;...</td>\n",
       "      <td>{'Add-Ons': 'NA', 'Body Shape ID': '333,424', ...</td>\n",
       "    </tr>\n",
       "    <tr>\n",
       "      <th>4</th>\n",
       "      <td>11056154</td>\n",
       "      <td>AHIKA Women Black &amp; Green Printed Straight Kurta</td>\n",
       "      <td>Kurta</td>\n",
       "      <td>1350.0</td>\n",
       "      <td>Black</td>\n",
       "      <td>AHIKA</td>\n",
       "      <td>http://assets.myntassets.com/assets/images/110...</td>\n",
       "      <td>21274.0</td>\n",
       "      <td>3.978377</td>\n",
       "      <td>Black and green printed straight kurta, has a ...</td>\n",
       "      <td>{'Body Shape ID': '424', 'Body or Garment Size...</td>\n",
       "    </tr>\n",
       "  </tbody>\n",
       "</table>\n",
       "</div>"
      ],
      "text/plain": [
       "       p_id                                               name  \\\n",
       "0  17048614  Khushal K Women Black Ethnic Motifs Printed Ku...   \n",
       "1  16524740  InWeave Women Orange Solid Kurta with Palazzos...   \n",
       "2  16331376  Anubhutee Women Navy Blue Ethnic Motifs Embroi...   \n",
       "3  14709966  Nayo Women Red Floral Printed Kurta With Trous...   \n",
       "4  11056154   AHIKA Women Black & Green Printed Straight Kurta   \n",
       "\n",
       "                                products   price     colour      brand  \\\n",
       "0               Kurta, Palazzos, Dupatta  5099.0      Black  Khushal K   \n",
       "1  Kurta, Palazzos, Floral Print Dupatta  5899.0     Orange    InWeave   \n",
       "2               Kurta, Trousers, Dupatta  4899.0  Navy Blue  Anubhutee   \n",
       "3                Kurta, Trouser, Dupatta  3699.0        Red       Nayo   \n",
       "4                                  Kurta  1350.0      Black      AHIKA   \n",
       "\n",
       "                                                 img  ratingCount  avg_rating  \\\n",
       "0  http://assets.myntassets.com/assets/images/170...       4522.0    4.418399   \n",
       "1  http://assets.myntassets.com/assets/images/165...       1081.0    4.119334   \n",
       "2  http://assets.myntassets.com/assets/images/163...       1752.0    4.161530   \n",
       "3  http://assets.myntassets.com/assets/images/147...       4113.0    4.088986   \n",
       "4  http://assets.myntassets.com/assets/images/110...      21274.0    3.978377   \n",
       "\n",
       "                                         description  \\\n",
       "0  Black printed Kurta with Palazzos with dupatta...   \n",
       "1  Orange solid Kurta with Palazzos with dupatta<...   \n",
       "2  Navy blue embroidered Kurta with Trousers with...   \n",
       "3  Red printed kurta with trouser and dupatta<br>...   \n",
       "4  Black and green printed straight kurta, has a ...   \n",
       "\n",
       "                                        p_attributes  \n",
       "0  {'Add-Ons': 'NA', 'Body Shape ID': '443,333,32...  \n",
       "1  {'Add-Ons': 'NA', 'Body Shape ID': '443,333,32...  \n",
       "2  {'Add-Ons': 'NA', 'Body Shape ID': '333,424', ...  \n",
       "3  {'Add-Ons': 'NA', 'Body Shape ID': '333,424', ...  \n",
       "4  {'Body Shape ID': '424', 'Body or Garment Size...  "
      ]
     },
     "execution_count": 3,
     "metadata": {},
     "output_type": "execute_result"
    }
   ],
   "source": [
    "# Check the data\n",
    "df.head()"
   ]
  },
  {
   "cell_type": "code",
   "execution_count": 4,
   "id": "edfb0214",
   "metadata": {},
   "outputs": [
    {
     "name": "stdout",
     "output_type": "stream",
     "text": [
      "<class 'pandas.core.frame.DataFrame'>\n",
      "RangeIndex: 14214 entries, 0 to 14213\n",
      "Data columns (total 11 columns):\n",
      " #   Column        Non-Null Count  Dtype  \n",
      "---  ------        --------------  -----  \n",
      " 0   p_id          14214 non-null  int64  \n",
      " 1   name          14214 non-null  object \n",
      " 2   products      14214 non-null  object \n",
      " 3   price         14214 non-null  float64\n",
      " 4   colour        14214 non-null  object \n",
      " 5   brand         14214 non-null  object \n",
      " 6   img           14214 non-null  object \n",
      " 7   ratingCount   6530 non-null   float64\n",
      " 8   avg_rating    6530 non-null   float64\n",
      " 9   description   14214 non-null  object \n",
      " 10  p_attributes  14214 non-null  object \n",
      "dtypes: float64(3), int64(1), object(7)\n",
      "memory usage: 1.2+ MB\n",
      "None\n"
     ]
    }
   ],
   "source": [
    "# Checking for Null and datatypes\n",
    "print(df.info())"
   ]
  },
  {
   "cell_type": "code",
   "execution_count": 5,
   "id": "a35660c5",
   "metadata": {},
   "outputs": [],
   "source": [
    "# Remove the \"img\" column as product links are not required\n",
    "df = df.drop(columns=['img'])"
   ]
  },
  {
   "cell_type": "code",
   "execution_count": 6,
   "id": "ee2f414c",
   "metadata": {},
   "outputs": [
    {
     "data": {
      "text/html": [
       "<div>\n",
       "<style scoped>\n",
       "    .dataframe tbody tr th:only-of-type {\n",
       "        vertical-align: middle;\n",
       "    }\n",
       "\n",
       "    .dataframe tbody tr th {\n",
       "        vertical-align: top;\n",
       "    }\n",
       "\n",
       "    .dataframe thead th {\n",
       "        text-align: right;\n",
       "    }\n",
       "</style>\n",
       "<table border=\"1\" class=\"dataframe\">\n",
       "  <thead>\n",
       "    <tr style=\"text-align: right;\">\n",
       "      <th></th>\n",
       "      <th>p_id</th>\n",
       "      <th>name</th>\n",
       "      <th>products</th>\n",
       "      <th>price</th>\n",
       "      <th>colour</th>\n",
       "      <th>brand</th>\n",
       "      <th>ratingCount</th>\n",
       "      <th>avg_rating</th>\n",
       "      <th>description</th>\n",
       "      <th>p_attributes</th>\n",
       "    </tr>\n",
       "  </thead>\n",
       "  <tbody>\n",
       "    <tr>\n",
       "      <th>0</th>\n",
       "      <td>17048614</td>\n",
       "      <td>Khushal K Women Black Ethnic Motifs Printed Ku...</td>\n",
       "      <td>Kurta, Palazzos, Dupatta</td>\n",
       "      <td>5099.0</td>\n",
       "      <td>Black</td>\n",
       "      <td>Khushal K</td>\n",
       "      <td>4522.0</td>\n",
       "      <td>4.418399</td>\n",
       "      <td>Black printed Kurta with Palazzos with dupatta...</td>\n",
       "      <td>{'Add-Ons': 'NA', 'Body Shape ID': '443,333,32...</td>\n",
       "    </tr>\n",
       "    <tr>\n",
       "      <th>1</th>\n",
       "      <td>16524740</td>\n",
       "      <td>InWeave Women Orange Solid Kurta with Palazzos...</td>\n",
       "      <td>Kurta, Palazzos, Floral Print Dupatta</td>\n",
       "      <td>5899.0</td>\n",
       "      <td>Orange</td>\n",
       "      <td>InWeave</td>\n",
       "      <td>1081.0</td>\n",
       "      <td>4.119334</td>\n",
       "      <td>Orange solid Kurta with Palazzos with dupatta&lt;...</td>\n",
       "      <td>{'Add-Ons': 'NA', 'Body Shape ID': '443,333,32...</td>\n",
       "    </tr>\n",
       "    <tr>\n",
       "      <th>2</th>\n",
       "      <td>16331376</td>\n",
       "      <td>Anubhutee Women Navy Blue Ethnic Motifs Embroi...</td>\n",
       "      <td>Kurta, Trousers, Dupatta</td>\n",
       "      <td>4899.0</td>\n",
       "      <td>Navy Blue</td>\n",
       "      <td>Anubhutee</td>\n",
       "      <td>1752.0</td>\n",
       "      <td>4.161530</td>\n",
       "      <td>Navy blue embroidered Kurta with Trousers with...</td>\n",
       "      <td>{'Add-Ons': 'NA', 'Body Shape ID': '333,424', ...</td>\n",
       "    </tr>\n",
       "    <tr>\n",
       "      <th>3</th>\n",
       "      <td>14709966</td>\n",
       "      <td>Nayo Women Red Floral Printed Kurta With Trous...</td>\n",
       "      <td>Kurta, Trouser, Dupatta</td>\n",
       "      <td>3699.0</td>\n",
       "      <td>Red</td>\n",
       "      <td>Nayo</td>\n",
       "      <td>4113.0</td>\n",
       "      <td>4.088986</td>\n",
       "      <td>Red printed kurta with trouser and dupatta&lt;br&gt;...</td>\n",
       "      <td>{'Add-Ons': 'NA', 'Body Shape ID': '333,424', ...</td>\n",
       "    </tr>\n",
       "    <tr>\n",
       "      <th>4</th>\n",
       "      <td>11056154</td>\n",
       "      <td>AHIKA Women Black &amp; Green Printed Straight Kurta</td>\n",
       "      <td>Kurta</td>\n",
       "      <td>1350.0</td>\n",
       "      <td>Black</td>\n",
       "      <td>AHIKA</td>\n",
       "      <td>21274.0</td>\n",
       "      <td>3.978377</td>\n",
       "      <td>Black and green printed straight kurta, has a ...</td>\n",
       "      <td>{'Body Shape ID': '424', 'Body or Garment Size...</td>\n",
       "    </tr>\n",
       "  </tbody>\n",
       "</table>\n",
       "</div>"
      ],
      "text/plain": [
       "       p_id                                               name  \\\n",
       "0  17048614  Khushal K Women Black Ethnic Motifs Printed Ku...   \n",
       "1  16524740  InWeave Women Orange Solid Kurta with Palazzos...   \n",
       "2  16331376  Anubhutee Women Navy Blue Ethnic Motifs Embroi...   \n",
       "3  14709966  Nayo Women Red Floral Printed Kurta With Trous...   \n",
       "4  11056154   AHIKA Women Black & Green Printed Straight Kurta   \n",
       "\n",
       "                                products   price     colour      brand  \\\n",
       "0               Kurta, Palazzos, Dupatta  5099.0      Black  Khushal K   \n",
       "1  Kurta, Palazzos, Floral Print Dupatta  5899.0     Orange    InWeave   \n",
       "2               Kurta, Trousers, Dupatta  4899.0  Navy Blue  Anubhutee   \n",
       "3                Kurta, Trouser, Dupatta  3699.0        Red       Nayo   \n",
       "4                                  Kurta  1350.0      Black      AHIKA   \n",
       "\n",
       "   ratingCount  avg_rating                                        description  \\\n",
       "0       4522.0    4.418399  Black printed Kurta with Palazzos with dupatta...   \n",
       "1       1081.0    4.119334  Orange solid Kurta with Palazzos with dupatta<...   \n",
       "2       1752.0    4.161530  Navy blue embroidered Kurta with Trousers with...   \n",
       "3       4113.0    4.088986  Red printed kurta with trouser and dupatta<br>...   \n",
       "4      21274.0    3.978377  Black and green printed straight kurta, has a ...   \n",
       "\n",
       "                                        p_attributes  \n",
       "0  {'Add-Ons': 'NA', 'Body Shape ID': '443,333,32...  \n",
       "1  {'Add-Ons': 'NA', 'Body Shape ID': '443,333,32...  \n",
       "2  {'Add-Ons': 'NA', 'Body Shape ID': '333,424', ...  \n",
       "3  {'Add-Ons': 'NA', 'Body Shape ID': '333,424', ...  \n",
       "4  {'Body Shape ID': '424', 'Body or Garment Size...  "
      ]
     },
     "execution_count": 6,
     "metadata": {},
     "output_type": "execute_result"
    }
   ],
   "source": [
    "# Check the data\n",
    "df.head()"
   ]
  },
  {
   "cell_type": "code",
   "execution_count": 7,
   "id": "a5039cbb",
   "metadata": {},
   "outputs": [],
   "source": [
    "# Fill all the Null in \"ratingCount\" and \"avg_rating\" with 0\n",
    "df['ratingCount'] = df['ratingCount'].fillna(0)\n",
    "df['avg_rating'] = df['avg_rating'].fillna(0)"
   ]
  },
  {
   "cell_type": "code",
   "execution_count": 8,
   "id": "8b86ba24",
   "metadata": {},
   "outputs": [
    {
     "name": "stdout",
     "output_type": "stream",
     "text": [
      "<class 'pandas.core.frame.DataFrame'>\n",
      "RangeIndex: 14214 entries, 0 to 14213\n",
      "Data columns (total 10 columns):\n",
      " #   Column        Non-Null Count  Dtype  \n",
      "---  ------        --------------  -----  \n",
      " 0   p_id          14214 non-null  int64  \n",
      " 1   name          14214 non-null  object \n",
      " 2   products      14214 non-null  object \n",
      " 3   price         14214 non-null  float64\n",
      " 4   colour        14214 non-null  object \n",
      " 5   brand         14214 non-null  object \n",
      " 6   ratingCount   14214 non-null  float64\n",
      " 7   avg_rating    14214 non-null  float64\n",
      " 8   description   14214 non-null  object \n",
      " 9   p_attributes  14214 non-null  object \n",
      "dtypes: float64(3), int64(1), object(6)\n",
      "memory usage: 1.1+ MB\n",
      "None\n"
     ]
    }
   ],
   "source": [
    "# Check the after filling Null\n",
    "print(df.info())"
   ]
  },
  {
   "cell_type": "markdown",
   "id": "3f53cce7-b33f-4ec5-b029-e4e0f4d061bf",
   "metadata": {},
   "source": [
    "### Removing the HTML tags and cleaning the descriptions"
   ]
  },
  {
   "cell_type": "code",
   "execution_count": 9,
   "id": "865fe1a6-ce29-4d61-9f09-aabbae8ddc01",
   "metadata": {},
   "outputs": [
    {
     "name": "stdout",
     "output_type": "stream",
     "text": [
      "0    Black printed Kurta with Palazzos with dupatta...\n",
      "1    Orange solid Kurta with Palazzos with dupatta<...\n",
      "2    Navy blue embroidered Kurta with Trousers with...\n",
      "3    Red printed kurta with trouser and dupatta<br>...\n",
      "4    Black and green printed straight kurta, has a ...\n",
      "5    <ul> <li> Colour: red </li> <li> Solid woven d...\n",
      "6    Stately and versatile, this kurta set will be ...\n",
      "7    When in doubt, rock this simple yet stylish ku...\n",
      "8    Yellow and white printed kurta with palazzos<b...\n",
      "9    Green &amp; pink printed kurta with palazzos &...\n",
      "Name: description, dtype: object\n"
     ]
    }
   ],
   "source": [
    "# Check the description column data\n",
    "print(df['description'].head(10))"
   ]
  },
  {
   "cell_type": "code",
   "execution_count": 10,
   "id": "d43e770f",
   "metadata": {},
   "outputs": [],
   "source": [
    "def clean_desc(description):\n",
    "    # Remove HTML tags using BeautifulSoup\n",
    "    soup = BeautifulSoup(description, \"html.parser\")\n",
    "    text = soup.get_text(separator=\" \")\n",
    "    \n",
    "    # Remove extra spaces and newlines\n",
    "    text = re.sub(r'\\s+', ' ', text).strip()\n",
    "    \n",
    "    # Remove non-alphanumeric characters (except spaces and punctuations)\n",
    "    text = re.sub(r'[^a-zA-Z0-9\\s,.]', '', text)\n",
    "    \n",
    "    # Fix common formatting issues (e.g., multiple spaces, extra punctuation)\n",
    "    text = re.sub(r'\\s+', ' ', text).strip()\n",
    "    \n",
    "    return text.lower()"
   ]
  },
  {
   "cell_type": "code",
   "execution_count": 11,
   "id": "9209afa0",
   "metadata": {},
   "outputs": [
    {
     "name": "stdout",
     "output_type": "stream",
     "text": [
      "0    black printed kurta with palazzos with dupatta...\n",
      "1    orange solid kurta with palazzos with dupatta ...\n",
      "2    navy blue embroidered kurta with trousers with...\n",
      "3    red printed kurta with trouser and dupatta kur...\n",
      "4    black and green printed straight kurta, has a ...\n",
      "5    colour red solid woven design mandarin collar ...\n",
      "6    stately and versatile, this kurta set will be ...\n",
      "7    when in doubt, rock this simple yet stylish ku...\n",
      "8    yellow and white printed kurta with palazzos y...\n",
      "9    green pink printed kurta with palazzos dupatta...\n",
      "Name: description, dtype: object\n"
     ]
    }
   ],
   "source": [
    "# Apply the cleaning function to the 'description' column\n",
    "df['description'] = df['description'].apply(clean_desc)\n",
    "\n",
    "# Check the cleaned data\n",
    "print(df['description'].head(10))"
   ]
  },
  {
   "cell_type": "code",
   "execution_count": 13,
   "id": "afcf0246",
   "metadata": {},
   "outputs": [],
   "source": [
    "# Store the new dataset in CSV format\n",
    "df.to_csv(\"Fashion_Dataset.csv\", index=False)"
   ]
  },
  {
   "cell_type": "markdown",
   "id": "aeb341b9-8d4c-4697-9795-9794e3a90ea2",
   "metadata": {},
   "source": [
    " <h4 align=\"right\">By Shivani Raut, Sindhu M and Vidhya Manikandan</h4>"
   ]
  }
 ],
 "metadata": {
  "kernelspec": {
   "display_name": "Python 3 (ipykernel)",
   "language": "python",
   "name": "python3"
  },
  "language_info": {
   "codemirror_mode": {
    "name": "ipython",
    "version": 3
   },
   "file_extension": ".py",
   "mimetype": "text/x-python",
   "name": "python",
   "nbconvert_exporter": "python",
   "pygments_lexer": "ipython3",
   "version": "3.11.5"
  }
 },
 "nbformat": 4,
 "nbformat_minor": 5
}
